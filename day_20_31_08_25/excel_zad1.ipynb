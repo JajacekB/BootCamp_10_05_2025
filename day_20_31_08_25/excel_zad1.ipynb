{
 "cells": [
  {
   "metadata": {},
   "cell_type": "markdown",
   "source": [
    "# Zadania z pracy Excel\n",
    "\n",
    "## kolejny\n",
    "### kolejny\n",
    "nowa linia\\\n",
    "nowa linia\n",
    "\n",
    "**pogrubiony**\\\n",
    "*kursywa*\n"
   ],
   "id": "331e1a7d8b09bde9"
  },
  {
   "metadata": {
    "collapsed": true,
    "ExecuteTime": {
     "end_time": "2025-08-31T08:32:04.766211Z",
     "start_time": "2025-08-31T08:32:04.533928Z"
    }
   },
   "cell_type": "code",
   "source": "print(\"Hello World\")\n",
   "id": "99dca622a98c0f30",
   "outputs": [
    {
     "name": "stdout",
     "output_type": "stream",
     "text": [
      "Hello World\n"
     ]
    }
   ],
   "execution_count": 5
  },
  {
   "metadata": {
    "ExecuteTime": {
     "end_time": "2025-08-31T08:32:52.553130Z",
     "start_time": "2025-08-31T08:32:52.541313Z"
    }
   },
   "cell_type": "code",
   "source": "a = 100",
   "id": "e5f53fc611b71d4f",
   "outputs": [],
   "execution_count": 6
  },
  {
   "metadata": {
    "ExecuteTime": {
     "end_time": "2025-08-31T08:32:54.618992Z",
     "start_time": "2025-08-31T08:32:54.601999Z"
    }
   },
   "cell_type": "code",
   "source": "print(a)",
   "id": "d5edaebd85d4f04e",
   "outputs": [
    {
     "name": "stdout",
     "output_type": "stream",
     "text": [
      "100\n"
     ]
    }
   ],
   "execution_count": 7
  },
  {
   "metadata": {
    "ExecuteTime": {
     "end_time": "2025-08-31T08:32:57.220975Z",
     "start_time": "2025-08-31T08:32:57.208130Z"
    }
   },
   "cell_type": "code",
   "source": "a",
   "id": "34bc507c776e82fb",
   "outputs": [
    {
     "data": {
      "text/plain": [
       "100"
      ]
     },
     "execution_count": 8,
     "metadata": {},
     "output_type": "execute_result"
    }
   ],
   "execution_count": 8
  },
  {
   "metadata": {
    "ExecuteTime": {
     "end_time": "2025-08-31T08:33:46.861605Z",
     "start_time": "2025-08-31T08:33:41.289297Z"
    }
   },
   "cell_type": "code",
   "source": "!pip install openpyxl",
   "id": "c16ab981416cee73",
   "outputs": [
    {
     "name": "stdout",
     "output_type": "stream",
     "text": [
      "Collecting openpyxl\n",
      "  Downloading openpyxl-3.1.5-py2.py3-none-any.whl.metadata (2.5 kB)\n",
      "Collecting et-xmlfile (from openpyxl)\n",
      "  Downloading et_xmlfile-2.0.0-py3-none-any.whl.metadata (2.7 kB)\n",
      "Downloading openpyxl-3.1.5-py2.py3-none-any.whl (250 kB)\n",
      "Downloading et_xmlfile-2.0.0-py3-none-any.whl (18 kB)\n",
      "Installing collected packages: et-xmlfile, openpyxl\n",
      "Successfully installed et-xmlfile-2.0.0 openpyxl-3.1.5\n"
     ]
    },
    {
     "name": "stderr",
     "output_type": "stream",
     "text": [
      "\n",
      "[notice] A new release of pip is available: 25.0.1 -> 25.2\n",
      "[notice] To update, run: python.exe -m pip install --upgrade pip\n"
     ]
    }
   ],
   "execution_count": 9
  },
  {
   "metadata": {
    "ExecuteTime": {
     "end_time": "2025-08-31T08:34:30.452636Z",
     "start_time": "2025-08-31T08:34:29.341350Z"
    }
   },
   "cell_type": "code",
   "source": "from openpyxl import Workbook",
   "id": "33a9a44ae338c68f",
   "outputs": [],
   "execution_count": 10
  },
  {
   "metadata": {
    "ExecuteTime": {
     "end_time": "2025-08-31T08:40:12.286902Z",
     "start_time": "2025-08-31T08:40:12.259913Z"
    }
   },
   "cell_type": "code",
   "source": [
    "wb = Workbook()\n",
    "\n",
    "ws = wb.active\n",
    "ws['A1'] = 42\n",
    "\n",
    "wb.save('sample.xlsx')"
   ],
   "id": "a39a10fa0217797c",
   "outputs": [],
   "execution_count": 21
  },
  {
   "metadata": {
    "ExecuteTime": {
     "end_time": "2025-08-31T08:39:32.260686Z",
     "start_time": "2025-08-31T08:39:32.256619Z"
    }
   },
   "cell_type": "code",
   "source": "ws.append([1,2,3])",
   "id": "5892395e085bf99c",
   "outputs": [],
   "execution_count": 20
  },
  {
   "metadata": {
    "ExecuteTime": {
     "end_time": "2025-08-31T08:47:20.607257Z",
     "start_time": "2025-08-31T08:47:20.578533Z"
    }
   },
   "cell_type": "code",
   "source": "wb.save('sample.xlsx')",
   "id": "2c2afd19a48609cd",
   "outputs": [],
   "execution_count": 26
  },
  {
   "metadata": {
    "ExecuteTime": {
     "end_time": "2025-08-31T08:41:28.849446Z",
     "start_time": "2025-08-31T08:41:28.846366Z"
    }
   },
   "cell_type": "code",
   "source": "import datetime",
   "id": "efe44c8e6721dc63",
   "outputs": [],
   "execution_count": 22
  },
  {
   "metadata": {
    "ExecuteTime": {
     "end_time": "2025-08-31T08:47:24.810899Z",
     "start_time": "2025-08-31T08:47:24.793051Z"
    }
   },
   "cell_type": "code",
   "source": [
    "ws['A8'] = datetime.datetime.now()\n",
    "wb.save('sample.xlsx')"
   ],
   "id": "8d7e5f517d83e70e",
   "outputs": [],
   "execution_count": 27
  }
 ],
 "metadata": {
  "kernelspec": {
   "display_name": "Python 3",
   "language": "python",
   "name": "python3"
  },
  "language_info": {
   "codemirror_mode": {
    "name": "ipython",
    "version": 2
   },
   "file_extension": ".py",
   "mimetype": "text/x-python",
   "name": "python",
   "nbconvert_exporter": "python",
   "pygments_lexer": "ipython2",
   "version": "2.7.6"
  }
 },
 "nbformat": 4,
 "nbformat_minor": 5
}
