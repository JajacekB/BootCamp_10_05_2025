{
 "cells": [
  {
   "metadata": {},
   "cell_type": "markdown",
   "source": [
    "# Zadania z pracy Excel\n",
    "\n",
    "## kolejny\n",
    "### kolejny\n",
    "nowa linia\\\n",
    "nowa linia\n",
    "\n",
    "**pogrubiony**\\\n",
    "*kursywa*\n"
   ],
   "id": "331e1a7d8b09bde9"
  },
  {
   "metadata": {
    "collapsed": true,
    "ExecuteTime": {
     "end_time": "2025-08-31T11:49:31.484512Z",
     "start_time": "2025-08-31T11:49:31.479979Z"
    }
   },
   "cell_type": "code",
   "source": "print(\"Hello World\")\n",
   "id": "99dca622a98c0f30",
   "outputs": [
    {
     "name": "stdout",
     "output_type": "stream",
     "text": [
      "Hello World\n"
     ]
    }
   ],
   "execution_count": 145
  },
  {
   "metadata": {
    "ExecuteTime": {
     "end_time": "2025-08-31T11:49:31.550011Z",
     "start_time": "2025-08-31T11:49:31.546908Z"
    }
   },
   "cell_type": "code",
   "source": "a = 100",
   "id": "e5f53fc611b71d4f",
   "outputs": [],
   "execution_count": 146
  },
  {
   "metadata": {
    "ExecuteTime": {
     "end_time": "2025-08-31T11:49:31.589195Z",
     "start_time": "2025-08-31T11:49:31.583107Z"
    }
   },
   "cell_type": "code",
   "source": "print(a)",
   "id": "d5edaebd85d4f04e",
   "outputs": [
    {
     "name": "stdout",
     "output_type": "stream",
     "text": [
      "100\n"
     ]
    }
   ],
   "execution_count": 147
  },
  {
   "metadata": {
    "ExecuteTime": {
     "end_time": "2025-08-31T11:49:31.659066Z",
     "start_time": "2025-08-31T11:49:31.652083Z"
    }
   },
   "cell_type": "code",
   "source": "a",
   "id": "34bc507c776e82fb",
   "outputs": [
    {
     "data": {
      "text/plain": [
       "100"
      ]
     },
     "execution_count": 148,
     "metadata": {},
     "output_type": "execute_result"
    }
   ],
   "execution_count": 148
  },
  {
   "metadata": {
    "ExecuteTime": {
     "end_time": "2025-08-31T11:49:36.936439Z",
     "start_time": "2025-08-31T11:49:31.728506Z"
    }
   },
   "cell_type": "code",
   "source": "!pip install openpyxl",
   "id": "c16ab981416cee73",
   "outputs": [
    {
     "name": "stdout",
     "output_type": "stream",
     "text": [
      "Requirement already satisfied: openpyxl in c:\\program files\\python313\\lib\\site-packages (3.1.5)\n",
      "Requirement already satisfied: et-xmlfile in c:\\program files\\python313\\lib\\site-packages (from openpyxl) (2.0.0)\n"
     ]
    }
   ],
   "execution_count": 149
  },
  {
   "metadata": {
    "ExecuteTime": {
     "end_time": "2025-08-31T11:49:37.138334Z",
     "start_time": "2025-08-31T11:49:37.135230Z"
    }
   },
   "cell_type": "code",
   "source": "from openpyxl import Workbook",
   "id": "33a9a44ae338c68f",
   "outputs": [],
   "execution_count": 150
  },
  {
   "metadata": {
    "ExecuteTime": {
     "end_time": "2025-08-31T11:49:37.171118Z",
     "start_time": "2025-08-31T11:49:37.151634Z"
    }
   },
   "cell_type": "code",
   "source": [
    "wb = Workbook()\n",
    "\n",
    "ws = wb.active\n",
    "ws['A1'] = 42\n",
    "\n",
    "wb.save('sample.xlsx')"
   ],
   "id": "a39a10fa0217797c",
   "outputs": [],
   "execution_count": 151
  },
  {
   "metadata": {
    "ExecuteTime": {
     "end_time": "2025-08-31T11:49:37.191567Z",
     "start_time": "2025-08-31T11:49:37.187503Z"
    }
   },
   "cell_type": "code",
   "source": "ws.append([1, 2, 3])",
   "id": "5892395e085bf99c",
   "outputs": [],
   "execution_count": 152
  },
  {
   "metadata": {
    "ExecuteTime": {
     "end_time": "2025-08-31T11:49:37.235799Z",
     "start_time": "2025-08-31T11:49:37.205465Z"
    }
   },
   "cell_type": "code",
   "source": "wb.save('sample.xlsx')",
   "id": "2c2afd19a48609cd",
   "outputs": [],
   "execution_count": 153
  },
  {
   "metadata": {
    "ExecuteTime": {
     "end_time": "2025-08-31T11:49:37.254665Z",
     "start_time": "2025-08-31T11:49:37.249583Z"
    }
   },
   "cell_type": "code",
   "source": "import datetime",
   "id": "efe44c8e6721dc63",
   "outputs": [],
   "execution_count": 154
  },
  {
   "metadata": {
    "ExecuteTime": {
     "end_time": "2025-08-31T11:49:37.301107Z",
     "start_time": "2025-08-31T11:49:37.270277Z"
    }
   },
   "cell_type": "code",
   "source": [
    "ws['A8'] = datetime.datetime.now()\n",
    "wb.save('sample.xlsx')"
   ],
   "id": "8d7e5f517d83e70e",
   "outputs": [],
   "execution_count": 155
  },
  {
   "metadata": {
    "ExecuteTime": {
     "end_time": "2025-08-31T11:50:05.018684Z",
     "start_time": "2025-08-31T11:49:37.318534Z"
    }
   },
   "cell_type": "code",
   "source": [
    "import openpyxl\n",
    "\n",
    "wb = openpyxl.load_workbook('videogamesales.xlsx')\n",
    "wb"
   ],
   "id": "c512637fd74f094a",
   "outputs": [
    {
     "data": {
      "text/plain": [
       "<openpyxl.workbook.workbook.Workbook at 0x196da033c50>"
      ]
     },
     "execution_count": 156,
     "metadata": {},
     "output_type": "execute_result"
    }
   ],
   "execution_count": 156
  },
  {
   "metadata": {
    "ExecuteTime": {
     "end_time": "2025-08-31T11:50:05.191516Z",
     "start_time": "2025-08-31T11:50:05.186550Z"
    }
   },
   "cell_type": "code",
   "source": [
    "ws = wb.active\n",
    "ws"
   ],
   "id": "21b507270f4fc879",
   "outputs": [
    {
     "data": {
      "text/plain": [
       "<Worksheet \"vgsales\">"
      ]
     },
     "execution_count": 157,
     "metadata": {},
     "output_type": "execute_result"
    }
   ],
   "execution_count": 157
  },
  {
   "metadata": {
    "ExecuteTime": {
     "end_time": "2025-08-31T11:50:05.264581Z",
     "start_time": "2025-08-31T11:50:05.259892Z"
    }
   },
   "cell_type": "code",
   "source": [
    "ws = wb['vgsales']\n",
    "ws"
   ],
   "id": "e2e804920f7836b5",
   "outputs": [
    {
     "data": {
      "text/plain": [
       "<Worksheet \"vgsales\">"
      ]
     },
     "execution_count": 158,
     "metadata": {},
     "output_type": "execute_result"
    }
   ],
   "execution_count": 158
  },
  {
   "metadata": {
    "ExecuteTime": {
     "end_time": "2025-08-31T11:50:05.374100Z",
     "start_time": "2025-08-31T11:50:05.347298Z"
    }
   },
   "cell_type": "code",
   "source": "print(\"Total number of rows:\", ws.max_row)",
   "id": "3dfe1f7207f3af56",
   "outputs": [
    {
     "name": "stdout",
     "output_type": "stream",
     "text": [
      "Total number of rows: 16328\n"
     ]
    }
   ],
   "execution_count": 159
  },
  {
   "metadata": {
    "ExecuteTime": {
     "end_time": "2025-08-31T11:50:05.477162Z",
     "start_time": "2025-08-31T11:50:05.448946Z"
    }
   },
   "cell_type": "code",
   "source": "print(\"Total number of columns:\", ws.max_column)",
   "id": "3e9fc98c3a6c30db",
   "outputs": [
    {
     "name": "stdout",
     "output_type": "stream",
     "text": [
      "Total number of columns: 10\n"
     ]
    }
   ],
   "execution_count": 160
  },
  {
   "metadata": {
    "ExecuteTime": {
     "end_time": "2025-08-31T11:50:05.564114Z",
     "start_time": "2025-08-31T11:50:05.559240Z"
    }
   },
   "cell_type": "code",
   "source": [
    "print(\"The value of call A1 is:\", ws['A1'])\n",
    "print(\"The value of call A1 is:\", ws['A1'].value)"
   ],
   "id": "8db7a3db34714c3b",
   "outputs": [
    {
     "name": "stdout",
     "output_type": "stream",
     "text": [
      "The value of call A1 is: <Cell 'vgsales'.A1>\n",
      "The value of call A1 is: Rank\n"
     ]
    }
   ],
   "execution_count": 161
  },
  {
   "metadata": {
    "ExecuteTime": {
     "end_time": "2025-08-31T11:50:05.653137Z",
     "start_time": "2025-08-31T11:50:05.630230Z"
    }
   },
   "cell_type": "code",
   "source": [
    "values = [ws.cell(row=1, column=i).value for i in range(1, ws.max_column + 1)]\n",
    "print(values)"
   ],
   "id": "44f0e95278f189c7",
   "outputs": [
    {
     "name": "stdout",
     "output_type": "stream",
     "text": [
      "['Rank', 'Name', 'Platform', 'Year', 'Genre', 'Publisher', 'NA_Sales', 'EU_Sales', 'JP_Sales', 'Other_Sales']\n"
     ]
    }
   ],
   "execution_count": 162
  },
  {
   "metadata": {
    "ExecuteTime": {
     "end_time": "2025-08-31T11:50:05.690323Z",
     "start_time": "2025-08-31T11:50:05.686185Z"
    }
   },
   "cell_type": "code",
   "source": [
    "data = [ws.cell(row=i, column=2).value for i in range(2, 12)]\n",
    "print(data)"
   ],
   "id": "e5a8a344f3fd1930",
   "outputs": [
    {
     "name": "stdout",
     "output_type": "stream",
     "text": [
      "['Wii Sports', 'Super Mario Bros.', 'Mario Kart Wii', 'Wii Sports Resort', 'Pokemon Red/Pokemon Blue', 'Tetris', 'New Super Mario Bros.', 'Wii Play', 'New Super Mario Bros. Wii', 'Duck Hunt']\n"
     ]
    }
   ],
   "execution_count": 163
  },
  {
   "metadata": {
    "ExecuteTime": {
     "end_time": "2025-08-31T11:50:05.748243Z",
     "start_time": "2025-08-31T11:50:05.743370Z"
    }
   },
   "cell_type": "code",
   "source": "data",
   "id": "36c622553931aa2f",
   "outputs": [
    {
     "data": {
      "text/plain": [
       "['Wii Sports',\n",
       " 'Super Mario Bros.',\n",
       " 'Mario Kart Wii',\n",
       " 'Wii Sports Resort',\n",
       " 'Pokemon Red/Pokemon Blue',\n",
       " 'Tetris',\n",
       " 'New Super Mario Bros.',\n",
       " 'Wii Play',\n",
       " 'New Super Mario Bros. Wii',\n",
       " 'Duck Hunt']"
      ]
     },
     "execution_count": 164,
     "metadata": {},
     "output_type": "execute_result"
    }
   ],
   "execution_count": 164
  },
  {
   "metadata": {
    "ExecuteTime": {
     "end_time": "2025-08-31T11:50:05.808583Z",
     "start_time": "2025-08-31T11:50:05.803927Z"
    }
   },
   "cell_type": "code",
   "source": [
    "my_list = list()\n",
    "\n",
    "for value in ws.iter_rows(\n",
    "        min_row=1,\n",
    "        max_row=11,\n",
    "        min_col=1,\n",
    "        max_col=6,\n",
    "        values_only=True\n",
    "):\n",
    "    my_list.append(value)"
   ],
   "id": "ce25c578498f8de8",
   "outputs": [],
   "execution_count": 165
  },
  {
   "metadata": {
    "ExecuteTime": {
     "end_time": "2025-08-31T11:50:05.836724Z",
     "start_time": "2025-08-31T11:50:05.829614Z"
    }
   },
   "cell_type": "code",
   "source": "my_list",
   "id": "41385e26e6371010",
   "outputs": [
    {
     "data": {
      "text/plain": [
       "[('Rank', 'Name', 'Platform', 'Year', 'Genre', 'Publisher'),\n",
       " (1, 'Wii Sports', 'Wii', 2006, 'Sports', 'Nintendo'),\n",
       " (2, 'Super Mario Bros.', 'NES', 1985, 'Platform', 'Nintendo'),\n",
       " (3, 'Mario Kart Wii', 'Wii', 2008, 'Racing', 'Nintendo'),\n",
       " (4, 'Wii Sports Resort', 'Wii', 2009, 'Sports', 'Nintendo'),\n",
       " (5, 'Pokemon Red/Pokemon Blue', 'GB', 1996, 'Role-Playing', 'Nintendo'),\n",
       " (6, 'Tetris', 'GB', 1989, 'Puzzle', 'Nintendo'),\n",
       " (7, 'New Super Mario Bros.', 'DS', 2006, 'Platform', 'Nintendo'),\n",
       " (8, 'Wii Play', 'Wii', 2006, 'Misc', 'Nintendo'),\n",
       " (9, 'New Super Mario Bros. Wii', 'Wii', 2009, 'Platform', 'Nintendo'),\n",
       " (10, 'Duck Hunt', 'NES', 1984, 'Shooter', 'Nintendo')]"
      ]
     },
     "execution_count": 166,
     "metadata": {},
     "output_type": "execute_result"
    }
   ],
   "execution_count": 166
  },
  {
   "metadata": {
    "ExecuteTime": {
     "end_time": "2025-08-31T11:50:05.893663Z",
     "start_time": "2025-08-31T11:50:05.888841Z"
    }
   },
   "cell_type": "code",
   "source": [
    "for ele1, ele2, ele3, ele4, ele5, ele6, in my_list:\n",
    "    print(f\"{ele1:<8}, {ele2:<35}, {ele3:<10}, {ele4:^10}, {ele5:<15}{ele6:<15}\")"
   ],
   "id": "566e1b5726c6c5bf",
   "outputs": [
    {
     "name": "stdout",
     "output_type": "stream",
     "text": [
      "Rank    , Name                               , Platform  ,    Year   , Genre          Publisher      \n",
      "1       , Wii Sports                         , Wii       ,    2006   , Sports         Nintendo       \n",
      "2       , Super Mario Bros.                  , NES       ,    1985   , Platform       Nintendo       \n",
      "3       , Mario Kart Wii                     , Wii       ,    2008   , Racing         Nintendo       \n",
      "4       , Wii Sports Resort                  , Wii       ,    2009   , Sports         Nintendo       \n",
      "5       , Pokemon Red/Pokemon Blue           , GB        ,    1996   , Role-Playing   Nintendo       \n",
      "6       , Tetris                             , GB        ,    1989   , Puzzle         Nintendo       \n",
      "7       , New Super Mario Bros.              , DS        ,    2006   , Platform       Nintendo       \n",
      "8       , Wii Play                           , Wii       ,    2006   , Misc           Nintendo       \n",
      "9       , New Super Mario Bros. Wii          , Wii       ,    2009   , Platform       Nintendo       \n",
      "10      , Duck Hunt                          , NES       ,    1984   , Shooter        Nintendo       \n"
     ]
    }
   ],
   "execution_count": 167
  },
  {
   "metadata": {
    "ExecuteTime": {
     "end_time": "2025-08-31T11:50:05.954208Z",
     "start_time": "2025-08-31T11:50:05.948994Z"
    }
   },
   "cell_type": "code",
   "source": [
    "ws['K1'] = \"Sum of Sales\"\n",
    "ws['K1'].value"
   ],
   "id": "13cfd533393a79ef",
   "outputs": [
    {
     "data": {
      "text/plain": [
       "'Sum of Sales'"
      ]
     },
     "execution_count": 168,
     "metadata": {},
     "output_type": "execute_result"
    }
   ],
   "execution_count": 168
  },
  {
   "metadata": {
    "ExecuteTime": {
     "end_time": "2025-08-31T11:50:06.016582Z",
     "start_time": "2025-08-31T11:50:06.011566Z"
    }
   },
   "cell_type": "code",
   "source": "ws.cell(row=1, column=1, value=\"Sume of Sales\")",
   "id": "1f0534b188d3ca86",
   "outputs": [
    {
     "data": {
      "text/plain": [
       "<Cell 'vgsales'.A1>"
      ]
     },
     "execution_count": 169,
     "metadata": {},
     "output_type": "execute_result"
    }
   ],
   "execution_count": 169
  },
  {
   "metadata": {
    "ExecuteTime": {
     "end_time": "2025-08-31T11:50:06.080119Z",
     "start_time": "2025-08-31T11:50:06.076469Z"
    }
   },
   "cell_type": "code",
   "source": "print(ws.cell(row=1, column=11).value)",
   "id": "ab9fd57c44356273",
   "outputs": [
    {
     "name": "stdout",
     "output_type": "stream",
     "text": [
      "Sum of Sales\n"
     ]
    }
   ],
   "execution_count": 170
  },
  {
   "metadata": {
    "ExecuteTime": {
     "end_time": "2025-08-31T11:50:13.128605Z",
     "start_time": "2025-08-31T11:50:06.142400Z"
    }
   },
   "cell_type": "code",
   "source": "wb.save(\"video2.xlsx\")",
   "id": "5d931ca6ae6f2173",
   "outputs": [],
   "execution_count": 171
  },
  {
   "metadata": {},
   "cell_type": "markdown",
   "source": "## Dodanie kolumny - suma sprzedaży",
   "id": "a7019e0421d82f8e"
  },
  {
   "metadata": {
    "ExecuteTime": {
     "end_time": "2025-08-31T11:50:19.387073Z",
     "start_time": "2025-08-31T11:50:13.299546Z"
    }
   },
   "cell_type": "code",
   "source": [
    "row_position = 2\n",
    "col_position = 7\n",
    "\n",
    "total_seles = (\n",
    "        (ws.cell(row=row_position, column=col_position).value) +\n",
    "        (ws.cell(row=row_position, column=col_position + 1).value) +\n",
    "        (ws.cell(row=row_position, column=col_position + 2).value) +\n",
    "        (ws.cell(row=row_position, column=col_position + 3).value)\n",
    ")\n",
    "ws.cell(row=2, column=11).value = total_seles\n",
    "wb.save('video2.xlsx')\n"
   ],
   "id": "f7b6302519c7dff6",
   "outputs": [],
   "execution_count": 172
  },
  {
   "metadata": {
    "ExecuteTime": {
     "end_time": "2025-08-31T11:50:26.249750Z",
     "start_time": "2025-08-31T11:50:19.559204Z"
    }
   },
   "cell_type": "code",
   "source": [
    "row_position = 1\n",
    "\n",
    "for i in range(1, ws.max_row):\n",
    "    row_position += 1\n",
    "    NA_Sales = ws.cell(row=row_position, column=7).value\n",
    "    EU_Sales = ws.cell(row=row_position, column=8).value\n",
    "    JP_Sales = ws.cell(row=row_position, column=9).value\n",
    "    Other_Sales = ws.cell(row=row_position, column=10).value\n",
    "\n",
    "    total_sales = NA_Sales + EU_Sales + JP_Sales + Other_Sales\n",
    "    ws.cell(row=row_position, column=11).value = total_seles\n",
    "\n",
    "wb.save('video2.xlsx')"
   ],
   "id": "fee381ab4976264d",
   "outputs": [],
   "execution_count": 173
  },
  {
   "metadata": {},
   "cell_type": "markdown",
   "source": "#### Dodawanie wiersza",
   "id": "1ba0fb580bdabeff"
  },
  {
   "metadata": {
    "ExecuteTime": {
     "end_time": "2025-08-31T11:50:34.852335Z",
     "start_time": "2025-08-31T11:50:26.416218Z"
    }
   },
   "cell_type": "code",
   "source": [
    "new_row = (1, 'The Legend of Zelda', 'Wii', 1986, 'Action', 'Nintendo', 3.74, 0.93, 1.69, 0.14, 6.51)\n",
    "ws.append(new_row)\n",
    "wb.save('video2.xlsx')"
   ],
   "id": "9048870fd04329a5",
   "outputs": [],
   "execution_count": 174
  },
  {
   "metadata": {
    "ExecuteTime": {
     "end_time": "2025-08-31T11:50:35.227023Z",
     "start_time": "2025-08-31T11:50:35.009214Z"
    }
   },
   "cell_type": "code",
   "source": [
    "values = [ws.cell(row=ws.max_row, column=i).value for i in range(1, ws.max_column + 1)]\n",
    "values"
   ],
   "id": "e3f7f8f547e418e5",
   "outputs": [
    {
     "data": {
      "text/plain": [
       "[1,\n",
       " 'The Legend of Zelda',\n",
       " 'Wii',\n",
       " 1986,\n",
       " 'Action',\n",
       " 'Nintendo',\n",
       " 3.74,\n",
       " 0.93,\n",
       " 1.69,\n",
       " 0.14,\n",
       " 6.51]"
      ]
     },
     "execution_count": 175,
     "metadata": {},
     "output_type": "execute_result"
    }
   ],
   "execution_count": 175
  },
  {
   "metadata": {},
   "cell_type": "markdown",
   "source": "#### Usuwanie wiersza",
   "id": "90b6db7f4adfe146"
  },
  {
   "metadata": {
    "ExecuteTime": {
     "end_time": "2025-08-31T11:50:42.118809Z",
     "start_time": "2025-08-31T11:50:35.303717Z"
    }
   },
   "cell_type": "code",
   "source": [
    "ws.delete_rows(ws.max_row, 1)\n",
    "wb.save('video2.xlsx')"
   ],
   "id": "2cb6b9d9cbf61331",
   "outputs": [],
   "execution_count": 176
  },
  {
   "metadata": {},
   "cell_type": "markdown",
   "source": "_____\n",
   "id": "9c2023ab085a7992"
  },
  {
   "metadata": {},
   "cell_type": "markdown",
   "source": "AVERAGE",
   "id": "889ea4fbece7f6db"
  },
  {
   "metadata": {
    "ExecuteTime": {
     "end_time": "2025-08-31T11:50:48.692087Z",
     "start_time": "2025-08-31T11:50:42.271525Z"
    }
   },
   "cell_type": "code",
   "source": [
    "ws['P1'] = \"Average Sales\"\n",
    "ws['P2'] = '=Average(K2:K16328)'\n",
    "\n",
    "wb.save('video2.xlsx')"
   ],
   "id": "435482f245ecb5d1",
   "outputs": [],
   "execution_count": 177
  },
  {
   "metadata": {},
   "cell_type": "markdown",
   "source": "#### COUNTA",
   "id": "d2aa4f578894b095"
  },
  {
   "metadata": {
    "ExecuteTime": {
     "end_time": "2025-08-31T11:50:55.239129Z",
     "start_time": "2025-08-31T11:50:48.849131Z"
    }
   },
   "cell_type": "code",
   "source": [
    "ws['Q1'] = \"Number of Populated Cells\"\n",
    "ws['Q2'] = '=COUNTA(E2:E16328)'\n",
    "\n",
    "wb.save('video2.xlsx')\n"
   ],
   "id": "62590dc15f13e176",
   "outputs": [],
   "execution_count": 178
  },
  {
   "metadata": {},
   "cell_type": "markdown",
   "source": "#### COUNTIF",
   "id": "5b0191db59fee38a"
  },
  {
   "metadata": {
    "ExecuteTime": {
     "end_time": "2025-08-31T11:51:01.857565Z",
     "start_time": "2025-08-31T11:50:55.392367Z"
    }
   },
   "cell_type": "code",
   "source": [
    "ws['R1'] = \"Number of Rows with Sports Genre\"\n",
    "ws['R2'] = '=COUNTIF(E2:E16328, \"Sports\")'\n",
    "\n",
    "wb.save('video2.xlsx')"
   ],
   "id": "ab5cc6c3098fdbe4",
   "outputs": [],
   "execution_count": 179
  },
  {
   "metadata": {},
   "cell_type": "markdown",
   "source": "#### - sumuje spełniające warunek",
   "id": "f9611b88e145b325"
  },
  {
   "metadata": {
    "ExecuteTime": {
     "end_time": "2025-08-31T11:51:09.972742Z",
     "start_time": "2025-08-31T11:51:02.011152Z"
    }
   },
   "cell_type": "code",
   "source": [
    "ws['S1'] = 'Total Sports Sales'\n",
    "ws['S2'] = '=SUMIF(E2:E16328, \"Sports\", K2:K16328)'\n",
    "\n",
    "wb.save('video2.xlsx')"
   ],
   "id": "d074c70b96fa48b2",
   "outputs": [],
   "execution_count": 180
  },
  {
   "metadata": {},
   "cell_type": "markdown",
   "source": "#### CEILING",
   "id": "6863bd680a70ff23"
  },
  {
   "metadata": {
    "ExecuteTime": {
     "end_time": "2025-08-31T11:51:16.604024Z",
     "start_time": "2025-08-31T11:51:10.127164Z"
    }
   },
   "cell_type": "code",
   "source": [
    "ws['T1'] = \"Rounded Sum of Sports Sales\"\n",
    "ws['T2'] = '=CEILING(S2,25)'  # do najblizszego 25\n",
    "\n",
    "wb.save('video2.xlsx')"
   ],
   "id": "31f3f49c7abe8450",
   "outputs": [],
   "execution_count": 181
  },
  {
   "metadata": {
    "ExecuteTime": {
     "end_time": "2025-08-31T11:51:23.169803Z",
     "start_time": "2025-08-31T11:51:16.764024Z"
    }
   },
   "cell_type": "code",
   "source": [
    "ws['T3'] = '=CEILING(S2,1)'  # do nabliższej całkowitej\n",
    "wb.save('video2.xlsx')"
   ],
   "id": "2432acd78edf88f6",
   "outputs": [],
   "execution_count": 182
  },
  {
   "metadata": {},
   "cell_type": "markdown",
   "source": "_____",
   "id": "d6bc898f30dfdf13"
  },
  {
   "metadata": {
    "ExecuteTime": {
     "end_time": "2025-08-31T11:51:23.328619Z",
     "start_time": "2025-08-31T11:51:23.324536Z"
    }
   },
   "cell_type": "code",
   "source": "print(ws.title)",
   "id": "4fbbf2d0b78d0606",
   "outputs": [
    {
     "name": "stdout",
     "output_type": "stream",
     "text": [
      "vgsales\n"
     ]
    }
   ],
   "execution_count": 183
  },
  {
   "metadata": {
    "ExecuteTime": {
     "end_time": "2025-08-31T11:51:30.052544Z",
     "start_time": "2025-08-31T11:51:23.379273Z"
    }
   },
   "cell_type": "code",
   "source": [
    "ws.title = \"Video Games Sales Data\"\n",
    "\n",
    "wb.save('video2.xlsx')"
   ],
   "id": "a12e4462668a3d5f",
   "outputs": [],
   "execution_count": 184
  },
  {
   "metadata": {
    "ExecuteTime": {
     "end_time": "2025-08-31T11:51:30.219732Z",
     "start_time": "2025-08-31T11:51:30.212589Z"
    }
   },
   "cell_type": "code",
   "source": "wb.sheetnames",
   "id": "9d391eea5354778c",
   "outputs": [
    {
     "data": {
      "text/plain": [
       "['Video Games Sales Data',\n",
       " 'Total Sales by Genre',\n",
       " 'Breakdown of Sales by Genre',\n",
       " 'Breakdown of Sales by Year']"
      ]
     },
     "execution_count": 185,
     "metadata": {},
     "output_type": "execute_result"
    }
   ],
   "execution_count": 185
  },
  {
   "metadata": {},
   "cell_type": "markdown",
   "source": "#### Dodanie arkuszy",
   "id": "b89eb777341b02fd"
  },
  {
   "metadata": {
    "ExecuteTime": {
     "end_time": "2025-08-31T11:51:30.269816Z",
     "start_time": "2025-08-31T11:51:30.265394Z"
    }
   },
   "cell_type": "code",
   "source": [
    "wb.create_sheet(\"Empty Sheet\")\n",
    "print(wb.sheetnames)"
   ],
   "id": "c1cf1bc349f226e3",
   "outputs": [
    {
     "name": "stdout",
     "output_type": "stream",
     "text": [
      "['Video Games Sales Data', 'Total Sales by Genre', 'Breakdown of Sales by Genre', 'Breakdown of Sales by Year', 'Empty Sheet']\n"
     ]
    }
   ],
   "execution_count": 186
  },
  {
   "metadata": {
    "ExecuteTime": {
     "end_time": "2025-08-31T11:51:36.925119Z",
     "start_time": "2025-08-31T11:51:30.310980Z"
    }
   },
   "cell_type": "code",
   "source": "wb.save('video2.xlsx')",
   "id": "89e23af1dc688fa0",
   "outputs": [],
   "execution_count": 187
  },
  {
   "metadata": {},
   "cell_type": "markdown",
   "source": "#### Usunięcie arkusza",
   "id": "7aeaf4d951beec42"
  },
  {
   "metadata": {
    "ExecuteTime": {
     "end_time": "2025-08-31T11:51:37.099718Z",
     "start_time": "2025-08-31T11:51:37.095077Z"
    }
   },
   "cell_type": "code",
   "source": [
    "wb.remove(wb['Empty Sheet'])\n",
    "print(wb.sheetnames)"
   ],
   "id": "52e43b8021255b4a",
   "outputs": [
    {
     "name": "stdout",
     "output_type": "stream",
     "text": [
      "['Video Games Sales Data', 'Total Sales by Genre', 'Breakdown of Sales by Genre', 'Breakdown of Sales by Year']\n"
     ]
    }
   ],
   "execution_count": 188
  },
  {
   "metadata": {
    "ExecuteTime": {
     "end_time": "2025-08-31T11:51:45.803037Z",
     "start_time": "2025-08-31T11:51:37.153505Z"
    }
   },
   "cell_type": "code",
   "source": "wb.save('video2.xlsx')",
   "id": "e671bc01b41e18eb",
   "outputs": [],
   "execution_count": 189
  },
  {
   "metadata": {},
   "cell_type": "markdown",
   "source": "Powielenie arkusza",
   "id": "6b4bccc196933486"
  },
  {
   "metadata": {
    "ExecuteTime": {
     "end_time": "2025-08-31T11:51:46.622484Z",
     "start_time": "2025-08-31T11:51:45.996416Z"
    }
   },
   "cell_type": "code",
   "source": [
    "wb.copy_worksheet(wb['Video Games Sales Data'])\n",
    "print(wb.sheetnames)"
   ],
   "id": "5ac701a7dad5b04d",
   "outputs": [
    {
     "name": "stdout",
     "output_type": "stream",
     "text": [
      "['Video Games Sales Data', 'Total Sales by Genre', 'Breakdown of Sales by Genre', 'Breakdown of Sales by Year', 'Video Games Sales Data Copy']\n"
     ]
    }
   ],
   "execution_count": 190
  },
  {
   "metadata": {
    "ExecuteTime": {
     "end_time": "2025-08-31T11:51:56.926396Z",
     "start_time": "2025-08-31T11:51:46.803849Z"
    }
   },
   "cell_type": "code",
   "source": "wb.save('video2.xlsx')",
   "id": "e4f53b6cff31d58e",
   "outputs": [],
   "execution_count": 191
  },
  {
   "metadata": {
    "ExecuteTime": {
     "end_time": "2025-08-31T11:51:57.088528Z",
     "start_time": "2025-08-31T11:51:57.084734Z"
    }
   },
   "cell_type": "code",
   "source": "print(wb.sheetnames)",
   "id": "1ac287cedb3c5127",
   "outputs": [
    {
     "name": "stdout",
     "output_type": "stream",
     "text": [
      "['Video Games Sales Data', 'Total Sales by Genre', 'Breakdown of Sales by Genre', 'Breakdown of Sales by Year', 'Video Games Sales Data Copy']\n"
     ]
    }
   ],
   "execution_count": 192
  },
  {
   "metadata": {
    "ExecuteTime": {
     "end_time": "2025-08-31T11:51:57.153520Z",
     "start_time": "2025-08-31T11:51:57.149362Z"
    }
   },
   "cell_type": "code",
   "source": "ws = wb['Total Sales by Genre']",
   "id": "5ec3b79be3e1c998",
   "outputs": [],
   "execution_count": 193
  },
  {
   "metadata": {},
   "cell_type": "markdown",
   "source": "#### Wykres słupkowy",
   "id": "53e0bdca99a0d25b"
  },
  {
   "metadata": {
    "ExecuteTime": {
     "end_time": "2025-08-31T11:51:57.178144Z",
     "start_time": "2025-08-31T11:51:57.175052Z"
    }
   },
   "cell_type": "code",
   "source": "from openpyxl.chart import Reference",
   "id": "bf1131a456925a3f",
   "outputs": [],
   "execution_count": 194
  },
  {
   "metadata": {
    "ExecuteTime": {
     "end_time": "2025-08-31T11:51:57.199462Z",
     "start_time": "2025-08-31T11:51:57.195862Z"
    }
   },
   "cell_type": "code",
   "source": [
    "values = Reference(ws,\n",
    "                   min_col=2,\n",
    "                   max_col=2,\n",
    "                   min_row=1,\n",
    "                   max_row=13)"
   ],
   "id": "bd482ce538c1b38f",
   "outputs": [],
   "execution_count": 195
  },
  {
   "metadata": {
    "ExecuteTime": {
     "end_time": "2025-08-31T11:51:57.219591Z",
     "start_time": "2025-08-31T11:51:57.216161Z"
    }
   },
   "cell_type": "code",
   "source": [
    "cats = Reference(ws,\n",
    "                 min_col=1,\n",
    "                 max_col=1,\n",
    "                 min_row=2,\n",
    "                 max_row=13)"
   ],
   "id": "7db23ff0a5ca8ce4",
   "outputs": [],
   "execution_count": 196
  },
  {
   "metadata": {
    "ExecuteTime": {
     "end_time": "2025-08-31T11:52:07.906899Z",
     "start_time": "2025-08-31T11:51:57.231398Z"
    }
   },
   "cell_type": "code",
   "source": [
    "from openpyxl.chart import BarChart\n",
    "\n",
    "chart = BarChart()\n",
    "chart.add_data(values, titles_from_data=True)\n",
    "chart.set_categories(cats)\n",
    "\n",
    "chart.title = 'Total Sales'\n",
    "chart.x_axis.title = \"Genre\"\n",
    "chart.y_axis.title = \"Total Sales by Genre\"\n",
    "\n",
    "ws.add_chart(chart, 'D2')\n",
    "wb.save('video2.xlsx')"
   ],
   "id": "f97e0da21c95147e",
   "outputs": [],
   "execution_count": 197
  },
  {
   "metadata": {
    "ExecuteTime": {
     "end_time": "2025-08-31T11:52:08.068306Z",
     "start_time": "2025-08-31T11:52:08.064968Z"
    }
   },
   "cell_type": "code",
   "source": "ws = wb['Breakdown of Sales by Genre']",
   "id": "97d5d1402d42b0dc",
   "outputs": [],
   "execution_count": 198
  },
  {
   "metadata": {
    "ExecuteTime": {
     "end_time": "2025-08-31T11:52:08.084295Z",
     "start_time": "2025-08-31T11:52:08.080499Z"
    }
   },
   "cell_type": "code",
   "source": [
    "values = Reference(ws,\n",
    "                   min_col=2,\n",
    "                   max_col=5,\n",
    "                   min_row=1,\n",
    "                   max_row=13)"
   ],
   "id": "56c042555f050836",
   "outputs": [],
   "execution_count": 199
  },
  {
   "metadata": {
    "ExecuteTime": {
     "end_time": "2025-08-31T11:52:08.099892Z",
     "start_time": "2025-08-31T11:52:08.096449Z"
    }
   },
   "cell_type": "code",
   "source": [
    "cats = Reference(ws,\n",
    "                 min_col=1,\n",
    "                 max_col=1,\n",
    "                 min_row=2,\n",
    "                 max_row=13)"
   ],
   "id": "1767f868cbdda2fd",
   "outputs": [],
   "execution_count": 200
  },
  {
   "metadata": {
    "ExecuteTime": {
     "end_time": "2025-08-31T11:52:08.115859Z",
     "start_time": "2025-08-31T11:52:08.110899Z"
    }
   },
   "cell_type": "code",
   "source": [
    "chart = BarChart()\n",
    "chart.add_data(values, titles_from_data=True)\n",
    "chart.set_categories(cats)"
   ],
   "id": "cbe5c97f67bd672a",
   "outputs": [],
   "execution_count": 201
  },
  {
   "metadata": {
    "ExecuteTime": {
     "end_time": "2025-08-31T11:52:18.452732Z",
     "start_time": "2025-08-31T11:52:08.126269Z"
    }
   },
   "cell_type": "code",
   "source": [
    "chart.title = \"Sales Breakdown\"\n",
    "chart.x_axis.title = \"Genre\"\n",
    "chart.y_axis.title = \"Breakdown of Sales by Genre\"\n",
    "\n",
    "ws.add_chart(chart, \"H2\")\n",
    "\n",
    "wb.save('video3.xlsx')"
   ],
   "id": "b34358ca277c7130",
   "outputs": [],
   "execution_count": 202
  },
  {
   "metadata": {},
   "cell_type": "markdown",
   "source": "#### Wykres liniowy",
   "id": "584897fdf91585e5"
  },
  {
   "metadata": {
    "ExecuteTime": {
     "end_time": "2025-08-31T11:55:52.598025Z",
     "start_time": "2025-08-31T11:55:52.594437Z"
    }
   },
   "cell_type": "code",
   "source": [
    "values = Reference(ws,\n",
    "                   min_col=2,\n",
    "                   max_col=6,\n",
    "                   min_row=1,\n",
    "                   max_row=40)"
   ],
   "id": "415ed6610d962411",
   "outputs": [],
   "execution_count": 203
  },
  {
   "metadata": {
    "ExecuteTime": {
     "end_time": "2025-08-31T11:55:54.173280Z",
     "start_time": "2025-08-31T11:55:54.169045Z"
    }
   },
   "cell_type": "code",
   "source": [
    "cats = Reference(ws,\n",
    "                 min_col=1,\n",
    "                 max_col=1,\n",
    "                 min_row=2,\n",
    "                 max_row=40)"
   ],
   "id": "2e91e8876bea6960",
   "outputs": [],
   "execution_count": 204
  },
  {
   "metadata": {
    "ExecuteTime": {
     "end_time": "2025-08-31T11:58:06.002638Z",
     "start_time": "2025-08-31T11:58:05.997382Z"
    }
   },
   "cell_type": "code",
   "source": [
    "from openpyxl.chart import LineChart\n",
    "\n",
    "chart = LineChart()\n",
    "chart.add_data(values, titles_from_data=True)\n",
    "chart.set_categories(cats)"
   ],
   "id": "1ce1b8004ec7ffd6",
   "outputs": [],
   "execution_count": 205
  },
  {
   "metadata": {
    "ExecuteTime": {
     "end_time": "2025-08-31T11:59:47.908995Z",
     "start_time": "2025-08-31T11:59:36.330044Z"
    }
   },
   "cell_type": "code",
   "source": [
    "chart.title = \"Total Sales\"\n",
    "chart.x_axis.title = \"YEAR\"\n",
    "chart.y_axis.title = \"Total Sels by Year\"\n",
    "\n",
    "ws.add_chart(chart, \"H2\")\n",
    "\n",
    "wb.save('video3.xlsx')"
   ],
   "id": "10c2298ad52cfd46",
   "outputs": [],
   "execution_count": 206
  },
  {
   "metadata": {},
   "cell_type": "markdown",
   "source": "-----",
   "id": "43e2da6cb6651221"
  },
  {
   "metadata": {
    "ExecuteTime": {
     "end_time": "2025-08-31T12:05:22.007787Z",
     "start_time": "2025-08-31T12:05:22.003097Z"
    }
   },
   "cell_type": "code",
   "source": "from openpyxl .styles import Font",
   "id": "a1b866b0aae3b0b4",
   "outputs": [],
   "execution_count": 207
  },
  {
   "metadata": {
    "ExecuteTime": {
     "end_time": "2025-08-31T12:05:58.094927Z",
     "start_time": "2025-08-31T12:05:58.091695Z"
    }
   },
   "cell_type": "code",
   "source": "ws = wb['Video Games Sales Data']",
   "id": "3e4b1b17cbb1def0",
   "outputs": [],
   "execution_count": 208
  },
  {
   "metadata": {
    "ExecuteTime": {
     "end_time": "2025-08-31T12:12:03.890370Z",
     "start_time": "2025-08-31T12:11:53.755948Z"
    }
   },
   "cell_type": "code",
   "source": [
    "ws['A1'].font = Font(bold=True, size=12)\n",
    "\n",
    "wb.save('video3.xlsx')\n"
   ],
   "id": "290076fe2876e5f",
   "outputs": [],
   "execution_count": 211
  },
  {
   "metadata": {
    "ExecuteTime": {
     "end_time": "2025-08-31T12:11:53.721336Z",
     "start_time": "2025-08-31T12:11:42.943494Z"
    }
   },
   "cell_type": "code",
   "source": [
    "for call in ws[\"1:1\"]:\n",
    "    call.font = Font(bold=True, size=12)\n",
    "\n",
    "wb.save('video4.xlsx')"
   ],
   "id": "353510354f6d42a8",
   "outputs": [],
   "execution_count": 210
  },
  {
   "metadata": {
    "ExecuteTime": {
     "end_time": "2025-08-31T12:15:01.307092Z",
     "start_time": "2025-08-31T12:14:49.331155Z"
    }
   },
   "cell_type": "code",
   "source": [
    "from openpyxl.styles import colors\n",
    "\n",
    "ws['A1'].font = Font(color='FF0000', bold=True, size=12)\n",
    "ws['A2'].font = Font(color='0000FF', bold=True, size=12)\n",
    "ws['A3'].font = Font(color='00FF00', bold=True, size=12)\n",
    "\n",
    "wb.save('video4.xlsx')\n"
   ],
   "id": "78c200b075f06cce",
   "outputs": [],
   "execution_count": 212
  },
  {
   "metadata": {},
   "cell_type": "markdown",
   "source": "#### Zmiana wypełnienia",
   "id": "6b85c06b7b2ec7f8"
  },
  {
   "metadata": {
    "ExecuteTime": {
     "end_time": "2025-08-31T12:21:02.816612Z",
     "start_time": "2025-08-31T12:21:02.813451Z"
    }
   },
   "cell_type": "code",
   "source": "from openpyxl.styles import PatternFill\n",
   "id": "cdfb3acbdb0271f0",
   "outputs": [],
   "execution_count": 215
  },
  {
   "metadata": {
    "ExecuteTime": {
     "end_time": "2025-08-31T12:21:14.141714Z",
     "start_time": "2025-08-31T12:21:04.328580Z"
    }
   },
   "cell_type": "code",
   "source": [
    "ws['A1'].fill = PatternFill(\"solid\", start_color=\"38e3ff\")\n",
    "\n",
    "wb.save('video4.xlsx')"
   ],
   "id": "51a5f935f94cff9c",
   "outputs": [],
   "execution_count": 216
  },
  {
   "metadata": {
    "ExecuteTime": {
     "end_time": "2025-08-31T12:22:55.435684Z",
     "start_time": "2025-08-31T12:22:55.431487Z"
    }
   },
   "cell_type": "code",
   "source": "from openpyxl.formatting.rule import CellIsRule",
   "id": "bb81f56046f10b4e",
   "outputs": [],
   "execution_count": 217
  },
  {
   "metadata": {
    "ExecuteTime": {
     "end_time": "2025-08-31T12:24:40.767771Z",
     "start_time": "2025-08-31T12:24:40.764357Z"
    }
   },
   "cell_type": "code",
   "source": [
    "fill = PatternFill(\n",
    "    start_color=\"90EE90\",\n",
    "    end_color=\"90EE90\",\n",
    "    fill_type=\"solid\"\n",
    ")"
   ],
   "id": "e19a34e592eaa83e",
   "outputs": [],
   "execution_count": 218
  },
  {
   "metadata": {
    "ExecuteTime": {
     "end_time": "2025-08-31T12:28:26.095897Z",
     "start_time": "2025-08-31T12:28:26.091466Z"
    }
   },
   "cell_type": "code",
   "source": [
    "ws.conditional_formatting.add(\n",
    "    'G2:K16300',\n",
    "    CellIsRule(\n",
    "    operator='greaterThan',\n",
    "    formula=[8],\n",
    "    fill=fill\n",
    "))"
   ],
   "id": "2a7af609ad75347d",
   "outputs": [],
   "execution_count": 221
  },
  {
   "metadata": {
    "ExecuteTime": {
     "end_time": "2025-08-31T12:28:38.238441Z",
     "start_time": "2025-08-31T12:28:28.106379Z"
    }
   },
   "cell_type": "code",
   "source": "wb.save('video4.xlsx')",
   "id": "6adb509d60648ba6",
   "outputs": [],
   "execution_count": 222
  },
  {
   "metadata": {
    "ExecuteTime": {
     "end_time": "2025-08-31T12:33:18.080001Z",
     "start_time": "2025-08-31T12:33:18.075737Z"
    }
   },
   "cell_type": "code",
   "source": [
    "fill = PatternFill(\n",
    "    start_color=\"770E77\",\n",
    "    end_color=\"90EE90\",\n",
    "    fill_type=\"darkUp\"\n",
    ")"
   ],
   "id": "2c202ae557508e91",
   "outputs": [],
   "execution_count": 223
  },
  {
   "metadata": {
    "ExecuteTime": {
     "end_time": "2025-08-31T12:33:21.690273Z",
     "start_time": "2025-08-31T12:33:21.685719Z"
    }
   },
   "cell_type": "code",
   "source": [
    "ws.conditional_formatting.add(\n",
    "    'G2:K16300',\n",
    "    CellIsRule(\n",
    "    operator='lessThan',\n",
    "    formula=[5],\n",
    "    fill=fill,\n",
    "    font=Font(color='FF0000')\n",
    "))"
   ],
   "id": "18871e2989508b52",
   "outputs": [],
   "execution_count": 224
  },
  {
   "metadata": {
    "ExecuteTime": {
     "end_time": "2025-08-31T12:33:33.844080Z",
     "start_time": "2025-08-31T12:33:23.994674Z"
    }
   },
   "cell_type": "code",
   "source": "wb.save('video4.xlsx')",
   "id": "4f44e5d59b6fa22",
   "outputs": [],
   "execution_count": 225
  },
  {
   "metadata": {
    "ExecuteTime": {
     "end_time": "2025-08-31T12:40:37.030044Z",
     "start_time": "2025-08-31T12:40:37.026110Z"
    }
   },
   "cell_type": "code",
   "source": "wb.close()",
   "id": "62c93135ec67770",
   "outputs": [],
   "execution_count": 226
  }
 ],
 "metadata": {
  "kernelspec": {
   "display_name": "Python 3",
   "language": "python",
   "name": "python3"
  },
  "language_info": {
   "codemirror_mode": {
    "name": "ipython",
    "version": 2
   },
   "file_extension": ".py",
   "mimetype": "text/x-python",
   "name": "python",
   "nbconvert_exporter": "python",
   "pygments_lexer": "ipython2",
   "version": "2.7.6"
  }
 },
 "nbformat": 4,
 "nbformat_minor": 5
}
