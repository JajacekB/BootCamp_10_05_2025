{
 "cells": [
  {
   "metadata": {},
   "cell_type": "markdown",
   "source": [
    "# Zadania z pracy Excel\n",
    "\n",
    "## kolejny\n",
    "### kolejny\n",
    "nowa linia\\\n",
    "nowa linia\n",
    "\n",
    "**pogrubiony**\\\n",
    "*kursywa*\n"
   ],
   "id": "331e1a7d8b09bde9"
  },
  {
   "metadata": {
    "collapsed": true,
    "ExecuteTime": {
     "end_time": "2025-08-31T08:32:04.766211Z",
     "start_time": "2025-08-31T08:32:04.533928Z"
    }
   },
   "cell_type": "code",
   "source": "print(\"Hello World\")\n",
   "id": "99dca622a98c0f30",
   "outputs": [
    {
     "name": "stdout",
     "output_type": "stream",
     "text": [
      "Hello World\n"
     ]
    }
   ],
   "execution_count": 5
  },
  {
   "metadata": {
    "ExecuteTime": {
     "end_time": "2025-08-31T08:32:52.553130Z",
     "start_time": "2025-08-31T08:32:52.541313Z"
    }
   },
   "cell_type": "code",
   "source": "a = 100",
   "id": "e5f53fc611b71d4f",
   "outputs": [],
   "execution_count": 6
  },
  {
   "metadata": {
    "ExecuteTime": {
     "end_time": "2025-08-31T08:32:54.618992Z",
     "start_time": "2025-08-31T08:32:54.601999Z"
    }
   },
   "cell_type": "code",
   "source": "print(a)",
   "id": "d5edaebd85d4f04e",
   "outputs": [
    {
     "name": "stdout",
     "output_type": "stream",
     "text": [
      "100\n"
     ]
    }
   ],
   "execution_count": 7
  },
  {
   "metadata": {
    "ExecuteTime": {
     "end_time": "2025-08-31T08:32:57.220975Z",
     "start_time": "2025-08-31T08:32:57.208130Z"
    }
   },
   "cell_type": "code",
   "source": "a",
   "id": "34bc507c776e82fb",
   "outputs": [
    {
     "data": {
      "text/plain": [
       "100"
      ]
     },
     "execution_count": 8,
     "metadata": {},
     "output_type": "execute_result"
    }
   ],
   "execution_count": 8
  },
  {
   "metadata": {
    "ExecuteTime": {
     "end_time": "2025-08-31T08:33:46.861605Z",
     "start_time": "2025-08-31T08:33:41.289297Z"
    }
   },
   "cell_type": "code",
   "source": "!pip install openpyxl",
   "id": "c16ab981416cee73",
   "outputs": [
    {
     "name": "stdout",
     "output_type": "stream",
     "text": [
      "Collecting openpyxl\n",
      "  Downloading openpyxl-3.1.5-py2.py3-none-any.whl.metadata (2.5 kB)\n",
      "Collecting et-xmlfile (from openpyxl)\n",
      "  Downloading et_xmlfile-2.0.0-py3-none-any.whl.metadata (2.7 kB)\n",
      "Downloading openpyxl-3.1.5-py2.py3-none-any.whl (250 kB)\n",
      "Downloading et_xmlfile-2.0.0-py3-none-any.whl (18 kB)\n",
      "Installing collected packages: et-xmlfile, openpyxl\n",
      "Successfully installed et-xmlfile-2.0.0 openpyxl-3.1.5\n"
     ]
    },
    {
     "name": "stderr",
     "output_type": "stream",
     "text": [
      "\n",
      "[notice] A new release of pip is available: 25.0.1 -> 25.2\n",
      "[notice] To update, run: python.exe -m pip install --upgrade pip\n"
     ]
    }
   ],
   "execution_count": 9
  },
  {
   "metadata": {
    "ExecuteTime": {
     "end_time": "2025-08-31T08:34:30.452636Z",
     "start_time": "2025-08-31T08:34:29.341350Z"
    }
   },
   "cell_type": "code",
   "source": "from openpyxl import Workbook",
   "id": "33a9a44ae338c68f",
   "outputs": [],
   "execution_count": 10
  },
  {
   "metadata": {
    "ExecuteTime": {
     "end_time": "2025-08-31T08:40:12.286902Z",
     "start_time": "2025-08-31T08:40:12.259913Z"
    }
   },
   "cell_type": "code",
   "source": [
    "wb = Workbook()\n",
    "\n",
    "ws = wb.active\n",
    "ws['A1'] = 42\n",
    "\n",
    "wb.save('sample.xlsx')"
   ],
   "id": "a39a10fa0217797c",
   "outputs": [],
   "execution_count": 21
  },
  {
   "metadata": {
    "ExecuteTime": {
     "end_time": "2025-08-31T08:39:32.260686Z",
     "start_time": "2025-08-31T08:39:32.256619Z"
    }
   },
   "cell_type": "code",
   "source": "ws.append([1, 2, 3])",
   "id": "5892395e085bf99c",
   "outputs": [],
   "execution_count": 20
  },
  {
   "metadata": {
    "ExecuteTime": {
     "end_time": "2025-08-31T08:47:20.607257Z",
     "start_time": "2025-08-31T08:47:20.578533Z"
    }
   },
   "cell_type": "code",
   "source": "wb.save('sample.xlsx')",
   "id": "2c2afd19a48609cd",
   "outputs": [],
   "execution_count": 26
  },
  {
   "metadata": {
    "ExecuteTime": {
     "end_time": "2025-08-31T08:41:28.849446Z",
     "start_time": "2025-08-31T08:41:28.846366Z"
    }
   },
   "cell_type": "code",
   "source": "import datetime",
   "id": "efe44c8e6721dc63",
   "outputs": [],
   "execution_count": 22
  },
  {
   "metadata": {
    "ExecuteTime": {
     "end_time": "2025-08-31T08:47:24.810899Z",
     "start_time": "2025-08-31T08:47:24.793051Z"
    }
   },
   "cell_type": "code",
   "source": [
    "ws['A8'] = datetime.datetime.now()\n",
    "wb.save('sample.xlsx')"
   ],
   "id": "8d7e5f517d83e70e",
   "outputs": [],
   "execution_count": 27
  },
  {
   "metadata": {
    "ExecuteTime": {
     "end_time": "2025-08-31T09:10:07.834585Z",
     "start_time": "2025-08-31T09:09:45.656581Z"
    }
   },
   "cell_type": "code",
   "source": [
    "import openpyxl\n",
    "\n",
    "wb = openpyxl.load_workbook('videogamesales.xlsx')\n",
    "wb"
   ],
   "id": "c512637fd74f094a",
   "outputs": [
    {
     "data": {
      "text/plain": [
       "<openpyxl.workbook.workbook.Workbook at 0x196d75e9810>"
      ]
     },
     "execution_count": 28,
     "metadata": {},
     "output_type": "execute_result"
    }
   ],
   "execution_count": 28
  },
  {
   "metadata": {
    "ExecuteTime": {
     "end_time": "2025-08-31T09:16:10.385857Z",
     "start_time": "2025-08-31T09:16:10.378535Z"
    }
   },
   "cell_type": "code",
   "source": [
    "ws = wb.active\n",
    "ws"
   ],
   "id": "21b507270f4fc879",
   "outputs": [
    {
     "data": {
      "text/plain": [
       "<Worksheet \"vgsales\">"
      ]
     },
     "execution_count": 33,
     "metadata": {},
     "output_type": "execute_result"
    }
   ],
   "execution_count": 33
  },
  {
   "metadata": {
    "ExecuteTime": {
     "end_time": "2025-08-31T09:13:31.227913Z",
     "start_time": "2025-08-31T09:13:31.222506Z"
    }
   },
   "cell_type": "code",
   "source": [
    "ws = wb['vgsales']\n",
    "ws"
   ],
   "id": "e2e804920f7836b5",
   "outputs": [
    {
     "data": {
      "text/plain": [
       "<Worksheet \"vgsales\">"
      ]
     },
     "execution_count": 31,
     "metadata": {},
     "output_type": "execute_result"
    }
   ],
   "execution_count": 31
  },
  {
   "metadata": {
    "ExecuteTime": {
     "end_time": "2025-08-31T09:16:08.009940Z",
     "start_time": "2025-08-31T09:16:07.984551Z"
    }
   },
   "cell_type": "code",
   "source": "print(\"Total number of rows:\", ws.max_row)",
   "id": "3dfe1f7207f3af56",
   "outputs": [
    {
     "name": "stdout",
     "output_type": "stream",
     "text": [
      "Total number of rows: 16328\n"
     ]
    }
   ],
   "execution_count": 32
  },
  {
   "metadata": {
    "ExecuteTime": {
     "end_time": "2025-08-31T09:17:10.246594Z",
     "start_time": "2025-08-31T09:17:10.224294Z"
    }
   },
   "cell_type": "code",
   "source": "print(\"Total number of columns:\", ws.max_column)",
   "id": "3e9fc98c3a6c30db",
   "outputs": [
    {
     "name": "stdout",
     "output_type": "stream",
     "text": [
      "Total number of columns: 10\n"
     ]
    }
   ],
   "execution_count": 34
  },
  {
   "metadata": {
    "ExecuteTime": {
     "end_time": "2025-08-31T09:18:36.045383Z",
     "start_time": "2025-08-31T09:18:36.040523Z"
    }
   },
   "cell_type": "code",
   "source": [
    "print(\"The value of call A1 is:\", ws['A1'])\n",
    "print(\"The value of call A1 is:\", ws['A1'].value)"
   ],
   "id": "8db7a3db34714c3b",
   "outputs": [
    {
     "name": "stdout",
     "output_type": "stream",
     "text": [
      "The value of call A1 is: <Cell 'vgsales'.A1>\n",
      "The value of call A1 is: Rank\n"
     ]
    }
   ],
   "execution_count": 35
  },
  {
   "metadata": {
    "ExecuteTime": {
     "end_time": "2025-08-31T09:25:26.077354Z",
     "start_time": "2025-08-31T09:25:26.054182Z"
    }
   },
   "cell_type": "code",
   "source": [
    "values = [ws.cell(row=1, column=i).value for i in range(1, ws.max_column + 1)]\n",
    "print(values)"
   ],
   "id": "44f0e95278f189c7",
   "outputs": [
    {
     "name": "stdout",
     "output_type": "stream",
     "text": [
      "['Rank', 'Name', 'Platform', 'Year', 'Genre', 'Publisher', 'NA_Sales', 'EU_Sales', 'JP_Sales', 'Other_Sales']\n"
     ]
    }
   ],
   "execution_count": 44
  },
  {
   "metadata": {
    "ExecuteTime": {
     "end_time": "2025-08-31T09:26:16.495323Z",
     "start_time": "2025-08-31T09:26:16.490302Z"
    }
   },
   "cell_type": "code",
   "source": [
    "data = [ws.cell(row=i, column=2).value for i in range(2, 12)]\n",
    "print(data)"
   ],
   "id": "e5a8a344f3fd1930",
   "outputs": [
    {
     "name": "stdout",
     "output_type": "stream",
     "text": [
      "['Wii Sports', 'Super Mario Bros.', 'Mario Kart Wii', 'Wii Sports Resort', 'Pokemon Red/Pokemon Blue', 'Tetris', 'New Super Mario Bros.', 'Wii Play', 'New Super Mario Bros. Wii', 'Duck Hunt']\n"
     ]
    }
   ],
   "execution_count": 48
  },
  {
   "metadata": {
    "ExecuteTime": {
     "end_time": "2025-08-31T09:26:18.093788Z",
     "start_time": "2025-08-31T09:26:18.087011Z"
    }
   },
   "cell_type": "code",
   "source": "data",
   "id": "36c622553931aa2f",
   "outputs": [
    {
     "data": {
      "text/plain": [
       "['Wii Sports',\n",
       " 'Super Mario Bros.',\n",
       " 'Mario Kart Wii',\n",
       " 'Wii Sports Resort',\n",
       " 'Pokemon Red/Pokemon Blue',\n",
       " 'Tetris',\n",
       " 'New Super Mario Bros.',\n",
       " 'Wii Play',\n",
       " 'New Super Mario Bros. Wii',\n",
       " 'Duck Hunt']"
      ]
     },
     "execution_count": 49,
     "metadata": {},
     "output_type": "execute_result"
    }
   ],
   "execution_count": 49
  },
  {
   "metadata": {
    "ExecuteTime": {
     "end_time": "2025-08-31T09:34:47.484515Z",
     "start_time": "2025-08-31T09:34:47.478248Z"
    }
   },
   "cell_type": "code",
   "source": [
    "my_list = list()\n",
    "\n",
    "for value in ws.iter_rows(\n",
    "        min_row=1,\n",
    "        max_row=11,\n",
    "        min_col=1,\n",
    "        max_col=6,\n",
    "        values_only=True\n",
    "):\n",
    "    my_list.append(value)"
   ],
   "id": "ce25c578498f8de8",
   "outputs": [],
   "execution_count": 54
  },
  {
   "metadata": {
    "ExecuteTime": {
     "end_time": "2025-08-31T09:35:10.503903Z",
     "start_time": "2025-08-31T09:35:10.497096Z"
    }
   },
   "cell_type": "code",
   "source": "my_list",
   "id": "41385e26e6371010",
   "outputs": [
    {
     "data": {
      "text/plain": [
       "[('Rank', 'Name', 'Platform', 'Year', 'Genre', 'Publisher'),\n",
       " (1, 'Wii Sports', 'Wii', 2006, 'Sports', 'Nintendo'),\n",
       " (2, 'Super Mario Bros.', 'NES', 1985, 'Platform', 'Nintendo'),\n",
       " (3, 'Mario Kart Wii', 'Wii', 2008, 'Racing', 'Nintendo'),\n",
       " (4, 'Wii Sports Resort', 'Wii', 2009, 'Sports', 'Nintendo'),\n",
       " (5, 'Pokemon Red/Pokemon Blue', 'GB', 1996, 'Role-Playing', 'Nintendo'),\n",
       " (6, 'Tetris', 'GB', 1989, 'Puzzle', 'Nintendo'),\n",
       " (7, 'New Super Mario Bros.', 'DS', 2006, 'Platform', 'Nintendo'),\n",
       " (8, 'Wii Play', 'Wii', 2006, 'Misc', 'Nintendo'),\n",
       " (9, 'New Super Mario Bros. Wii', 'Wii', 2009, 'Platform', 'Nintendo'),\n",
       " (10, 'Duck Hunt', 'NES', 1984, 'Shooter', 'Nintendo')]"
      ]
     },
     "execution_count": 55,
     "metadata": {},
     "output_type": "execute_result"
    }
   ],
   "execution_count": 55
  },
  {
   "metadata": {
    "ExecuteTime": {
     "end_time": "2025-08-31T09:35:34.589775Z",
     "start_time": "2025-08-31T09:35:34.584621Z"
    }
   },
   "cell_type": "code",
   "source": [
    "for ele1, ele2, ele3, ele4, ele5, ele6, in my_list:\n",
    "    print(f\"{ele1:<8}, {ele2:<35}, {ele3:<10}, {ele4:^10}, {ele5:<15}{ele6:<15}\")"
   ],
   "id": "566e1b5726c6c5bf",
   "outputs": [
    {
     "name": "stdout",
     "output_type": "stream",
     "text": [
      "Rank    , Name                               , Platform  ,    Year   , Genre          Publisher      \n",
      "1       , Wii Sports                         , Wii       ,    2006   , Sports         Nintendo       \n",
      "2       , Super Mario Bros.                  , NES       ,    1985   , Platform       Nintendo       \n",
      "3       , Mario Kart Wii                     , Wii       ,    2008   , Racing         Nintendo       \n",
      "4       , Wii Sports Resort                  , Wii       ,    2009   , Sports         Nintendo       \n",
      "5       , Pokemon Red/Pokemon Blue           , GB        ,    1996   , Role-Playing   Nintendo       \n",
      "6       , Tetris                             , GB        ,    1989   , Puzzle         Nintendo       \n",
      "7       , New Super Mario Bros.              , DS        ,    2006   , Platform       Nintendo       \n",
      "8       , Wii Play                           , Wii       ,    2006   , Misc           Nintendo       \n",
      "9       , New Super Mario Bros. Wii          , Wii       ,    2009   , Platform       Nintendo       \n",
      "10      , Duck Hunt                          , NES       ,    1984   , Shooter        Nintendo       \n"
     ]
    }
   ],
   "execution_count": 56
  },
  {
   "metadata": {
    "ExecuteTime": {
     "end_time": "2025-08-31T09:36:27.702318Z",
     "start_time": "2025-08-31T09:36:27.697155Z"
    }
   },
   "cell_type": "code",
   "source": [
    "ws['K1'] = \"Sum of Sales\"\n",
    "ws['K1'].value"
   ],
   "id": "13cfd533393a79ef",
   "outputs": [
    {
     "data": {
      "text/plain": [
       "'Sum of Sales'"
      ]
     },
     "execution_count": 57,
     "metadata": {},
     "output_type": "execute_result"
    }
   ],
   "execution_count": 57
  },
  {
   "metadata": {
    "ExecuteTime": {
     "end_time": "2025-08-31T09:38:17.146442Z",
     "start_time": "2025-08-31T09:38:17.140893Z"
    }
   },
   "cell_type": "code",
   "source": "ws.cell(row=1, column=1, value=\"Sume of Sales\")",
   "id": "1f0534b188d3ca86",
   "outputs": [
    {
     "data": {
      "text/plain": [
       "<Cell 'vgsales'.A1>"
      ]
     },
     "execution_count": 58,
     "metadata": {},
     "output_type": "execute_result"
    }
   ],
   "execution_count": 58
  },
  {
   "metadata": {
    "ExecuteTime": {
     "end_time": "2025-08-31T09:38:55.163420Z",
     "start_time": "2025-08-31T09:38:55.158819Z"
    }
   },
   "cell_type": "code",
   "source": "print(ws.cell(row=1, column=11).value)",
   "id": "ab9fd57c44356273",
   "outputs": [
    {
     "name": "stdout",
     "output_type": "stream",
     "text": [
      "Sum of Sales\n"
     ]
    }
   ],
   "execution_count": 59
  },
  {
   "metadata": {
    "ExecuteTime": {
     "end_time": "2025-08-31T09:39:29.748072Z",
     "start_time": "2025-08-31T09:39:23.282705Z"
    }
   },
   "cell_type": "code",
   "source": "wb.save(\"video2.xlsx\")",
   "id": "5d931ca6ae6f2173",
   "outputs": [],
   "execution_count": 60
  },
  {
   "metadata": {},
   "cell_type": "markdown",
   "source": "## Dodanie kolumny - suma sprzedaży",
   "id": "a7019e0421d82f8e"
  },
  {
   "metadata": {
    "ExecuteTime": {
     "end_time": "2025-08-31T09:48:01.830214Z",
     "start_time": "2025-08-31T09:47:55.400346Z"
    }
   },
   "cell_type": "code",
   "source": [
    "row_position = 2\n",
    "col_position = 7\n",
    "\n",
    "total_seles = (\n",
    "        (ws.cell(row=row_position, column=col_position).value) +\n",
    "        (ws.cell(row=row_position, column=col_position + 1).value) +\n",
    "        (ws.cell(row=row_position, column=col_position + 2).value) +\n",
    "        (ws.cell(row=row_position, column=col_position + 3).value)\n",
    ")\n",
    "ws.cell(row=2, column=11).value = total_seles\n",
    "wb.save('video2.xlsx')\n"
   ],
   "id": "f7b6302519c7dff6",
   "outputs": [],
   "execution_count": 64
  },
  {
   "metadata": {
    "ExecuteTime": {
     "end_time": "2025-08-31T09:53:50.833695Z",
     "start_time": "2025-08-31T09:53:43.769243Z"
    }
   },
   "cell_type": "code",
   "source": [
    "row_position = 1\n",
    "\n",
    "for i in range(1, ws.max_row):\n",
    "    row_position += 1\n",
    "    NA_Sales = ws.cell(row=row_position, column=7).value\n",
    "    EU_Sales = ws.cell(row=row_position, column=8).value\n",
    "    JP_Sales = ws.cell(row=row_position, column=9).value\n",
    "    Other_Sales = ws.cell(row=row_position, column=10).value\n",
    "\n",
    "    total_sales = NA_Sales + EU_Sales + JP_Sales + Other_Sales\n",
    "    ws.cell(row=row_position, column=11).value = total_seles\n",
    "\n",
    "wb.save('video2.xlsx')"
   ],
   "id": "fee381ab4976264d",
   "outputs": [],
   "execution_count": 65
  },
  {
   "metadata": {},
   "cell_type": "markdown",
   "source": "#### Dodawanie wiersza",
   "id": "1ba0fb580bdabeff"
  },
  {
   "metadata": {
    "ExecuteTime": {
     "end_time": "2025-08-31T10:02:54.416518Z",
     "start_time": "2025-08-31T10:02:48.196354Z"
    }
   },
   "cell_type": "code",
   "source": [
    "new_row = (1, 'The Legend of Zelda', 'Wii', 1986, 'Action', 'Nintendo', 3.74, 0.93, 1.69, 0.14, 6.51)\n",
    "ws.append(new_row)\n",
    "wb.save('video2.xlsx')"
   ],
   "id": "9048870fd04329a5",
   "outputs": [],
   "execution_count": 70
  },
  {
   "metadata": {
    "ExecuteTime": {
     "end_time": "2025-08-31T10:03:10.755361Z",
     "start_time": "2025-08-31T10:03:10.570091Z"
    }
   },
   "cell_type": "code",
   "source": [
    "values = [ws.cell(row=ws.max_row, column=i).value for i in range(1, ws.max_column + 1)]\n",
    "values"
   ],
   "id": "e3f7f8f547e418e5",
   "outputs": [
    {
     "data": {
      "text/plain": [
       "[16600,\n",
       " 'Spirits & Spells',\n",
       " 'GBA',\n",
       " 2003,\n",
       " 'Platform',\n",
       " 'Wanadoo',\n",
       " 0.01,\n",
       " 0,\n",
       " 0,\n",
       " 0,\n",
       " 82.74000000000001]"
      ]
     },
     "execution_count": 73,
     "metadata": {},
     "output_type": "execute_result"
    }
   ],
   "execution_count": 73
  },
  {
   "metadata": {},
   "cell_type": "markdown",
   "source": "#### Usuwanie wiersza",
   "id": "90b6db7f4adfe146"
  },
  {
   "metadata": {
    "ExecuteTime": {
     "end_time": "2025-08-31T10:03:06.395024Z",
     "start_time": "2025-08-31T10:02:59.457320Z"
    }
   },
   "cell_type": "code",
   "source": [
    "ws.delete_rows(ws.max_row, 1)\n",
    "wb.save('video2.xlsx')"
   ],
   "id": "2cb6b9d9cbf61331",
   "outputs": [],
   "execution_count": 72
  },
  {
   "metadata": {},
   "cell_type": "markdown",
   "source": "_____\n",
   "id": "9c2023ab085a7992"
  },
  {
   "metadata": {},
   "cell_type": "markdown",
   "source": "AVERAGE",
   "id": "889ea4fbece7f6db"
  },
  {
   "metadata": {
    "ExecuteTime": {
     "end_time": "2025-08-31T10:06:26.215426Z",
     "start_time": "2025-08-31T10:06:19.559422Z"
    }
   },
   "cell_type": "code",
   "source": [
    "ws['P1'] = \"Average Sales\"\n",
    "ws['P2'] = '=Average(K2:K16328)'\n",
    "\n",
    "wb.save('video2.xlsx')"
   ],
   "id": "435482f245ecb5d1",
   "outputs": [],
   "execution_count": 74
  },
  {
   "metadata": {},
   "cell_type": "markdown",
   "source": "#### COUNTA",
   "id": "d2aa4f578894b095"
  },
  {
   "metadata": {
    "ExecuteTime": {
     "end_time": "2025-08-31T10:13:58.929780Z",
     "start_time": "2025-08-31T10:13:51.869579Z"
    }
   },
   "cell_type": "code",
   "source": [
    "ws['Q1'] = \"Number of populated Cells\"\n",
    "ws['Q2'] = \"COUNTA(E2:E16328)\"\n",
    "\n",
    "wb.save('video2.xlsx')"
   ],
   "id": "62590dc15f13e176",
   "outputs": [],
   "execution_count": 75
  },
  {
   "metadata": {},
   "cell_type": "markdown",
   "source": "#### COUNTIF",
   "id": "5b0191db59fee38a"
  },
  {
   "metadata": {
    "ExecuteTime": {
     "end_time": "2025-08-31T10:16:53.406867Z",
     "start_time": "2025-08-31T10:16:47.131329Z"
    }
   },
   "cell_type": "code",
   "source": [
    "ws['R1'] = \"Number of rows with Sports Games\"\n",
    "ws[\"R2\"] = \"=COUNTIF(E2:E16328, 'Sports')\"\n",
    "\n",
    "wb.save('video2.xlsx')"
   ],
   "id": "ab5cc6c3098fdbe4",
   "outputs": [],
   "execution_count": 76
  },
  {
   "metadata": {},
   "cell_type": "markdown",
   "source": "#### - sumuje spełniające warunek",
   "id": "f9611b88e145b325"
  },
  {
   "metadata": {
    "ExecuteTime": {
     "end_time": "2025-08-31T10:20:37.814538Z",
     "start_time": "2025-08-31T10:20:30.982334Z"
    }
   },
   "cell_type": "code",
   "source": [
    "ws['S1'] = \"Total Sports Sales\"\n",
    "ws['S2'] = \"=SUMIF(E2:E16328, 'Sports', K2:K16328)\"\n",
    "\n",
    "wb.save('video2.xlsx')"
   ],
   "id": "d074c70b96fa48b2",
   "outputs": [],
   "execution_count": 77
  },
  {
   "metadata": {},
   "cell_type": "markdown",
   "source": "#### CEILING",
   "id": "6863bd680a70ff23"
  },
  {
   "metadata": {
    "ExecuteTime": {
     "end_time": "2025-08-31T10:27:53.714290Z",
     "start_time": "2025-08-31T10:27:47.077450Z"
    }
   },
   "cell_type": "code",
   "source": [
    "ws['T1'] = \"Rounded Sun of Sports Sales\"\n",
    "ws['T2'] = \"=CEILING(S2,25)\"\n",
    "\n",
    "wb.save('video2.xlsx')"
   ],
   "id": "31f3f49c7abe8450",
   "outputs": [],
   "execution_count": 78
  },
  {
   "metadata": {
    "ExecuteTime": {
     "end_time": "2025-08-31T10:30:12.325304Z",
     "start_time": "2025-08-31T10:30:04.995564Z"
    }
   },
   "cell_type": "code",
   "source": [
    "ws['T3'] = \"=CEILING(S2,1)\"\n",
    "\n",
    "wb.save('video2.xlsx')"
   ],
   "id": "2432acd78edf88f6",
   "outputs": [],
   "execution_count": 79
  }
 ],
 "metadata": {
  "kernelspec": {
   "display_name": "Python 3",
   "language": "python",
   "name": "python3"
  },
  "language_info": {
   "codemirror_mode": {
    "name": "ipython",
    "version": 2
   },
   "file_extension": ".py",
   "mimetype": "text/x-python",
   "name": "python",
   "nbconvert_exporter": "python",
   "pygments_lexer": "ipython2",
   "version": "2.7.6"
  }
 },
 "nbformat": 4,
 "nbformat_minor": 5
}
